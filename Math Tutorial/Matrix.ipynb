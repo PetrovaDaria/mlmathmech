{
 "cells": [
  {
   "cell_type": "markdown",
   "metadata": {},
   "source": [
    "# Матрицы"
   ]
  },
  {
   "cell_type": "markdown",
   "metadata": {},
   "source": [
    "Матрица $\\pmb{M}$ размера $m \\times n$- это таблица из элементов $x_{\\textit{ij}}$ над полем $\\mathbb{F}$.  "
   ]
  },
  {
   "cell_type": "markdown",
   "metadata": {},
   "source": [
    "$$\n",
    "\\pmb{M} = \n",
    "\\begin{bmatrix}\n",
    "    x_{1,1} & x_{1,2} & x_{1,3} & \\dots  & x_{1,n} \\\\\n",
    "    x_{2,1} & x_{2,2} & x_{2,3} & \\dots  & x_{2,n} \\\\\n",
    "    \\vdots & \\vdots & \\vdots & \\ddots & \\vdots \\\\\n",
    "    x_{m,1} & x_{m,2} & x_{m,3} & \\dots  & x_{m,n}\n",
    "\\end{bmatrix}\n",
    "$$"
   ]
  },
  {
   "cell_type": "markdown",
   "metadata": {},
   "source": [
    "Матрица состоит из строк и столбцов.  \n",
    "Размер матрицы выше - $m \\times n$. Это значит, что в ней $m$ строк и $n$ столбцов.  \n",
    "Возьмем элемент $x_{\\textit{i,j}}$.  \n",
    "*i* - номер строки, в которой находится данный элемент.  \n",
    "*j* - номер столбца, в котором находится данный элемент.  \n",
    "Нумерация начинается с 1. Не путайте с `numpy`, где нумерация начинается с 0.  \n",
    "Возьмем элемент из третьей строки и первого столбца:"
   ]
  },
  {
   "cell_type": "markdown",
   "metadata": {},
   "source": [
    "Пример:  \n",
    "$$\n",
    "\\begin{bmatrix}\n",
    "7 & 2 \\\\\n",
    "3 & 999 \\\\\n",
    "-2 & 0\n",
    "\\end{bmatrix}_{\\textit{ 3,1}} = -2\n",
    "$$"
   ]
  },
  {
   "cell_type": "markdown",
   "metadata": {},
   "source": [
    "Матрицу можно представить как вектор-строку из векторов-столбцов $x_i \\in \\mathbb{F}^n$:\n",
    "\n",
    "$$ \\pmb{M} = \\begin{pmatrix}\n",
    "    x_1 & \\cdots & x_n \\\\\n",
    "\\end{pmatrix}\n",
    "$$"
   ]
  },
  {
   "cell_type": "markdown",
   "metadata": {},
   "source": [
    "#### Транспонирование"
   ]
  },
  {
   "cell_type": "markdown",
   "metadata": {},
   "source": [
    "$$\n",
    "\\begin{bmatrix}\n",
    "1 & 2 & 3 \\\\\n",
    "4 & 5 & 6\n",
    "\\end{bmatrix}^{\\top}\n",
    "=\n",
    "\\begin{bmatrix}\n",
    "1 & 4 \\\\\n",
    "2 & 5 \\\\\n",
    "3 & 6\n",
    "\\end{bmatrix}\n",
    "$$"
   ]
  },
  {
   "cell_type": "markdown",
   "metadata": {},
   "source": [
    "Можно сказать, что после выполнения транспонирования строки становятся столбцами, а столбцы - строками."
   ]
  },
  {
   "cell_type": "markdown",
   "metadata": {},
   "source": [
    "#### Главная диагональ и Единичная матрица"
   ]
  },
  {
   "cell_type": "markdown",
   "metadata": {},
   "source": [
    "Главная диагональ - это элементы матрицы $x_{\\textit{i,j}}$ при $\\textit{i = j}$.  \n",
    "Проще говоря, это значения матрицы, которые лежат на диагонали, идущей от левого верхнего угла матрицы до ее правого нижнего угла."
   ]
  },
  {
   "cell_type": "markdown",
   "metadata": {},
   "source": [
    "$$\n",
    "\\pmb{I} = \n",
    "\\begin{bmatrix}\n",
    "    1 & 0 & 0 & 0 \\\\\n",
    "    0 & 1 & 0 & 0 \\\\\n",
    "    0 & 0 & 1 & 0 \\\\\n",
    "    0 & 0 & 0 & 1\n",
    "\\end{bmatrix}\n",
    "$$"
   ]
  },
  {
   "cell_type": "markdown",
   "metadata": {},
   "source": [
    "Например, на матрице выше значения на главной диагонали равны $1$, а вне главной диагонали - $0$.  \n",
    "Кстати, такая матрица (независимо от размера) называется единичной и обозначается $\\pmb{I}$."
   ]
  },
  {
   "cell_type": "markdown",
   "metadata": {},
   "source": [
    "#### Перемножение"
   ]
  },
  {
   "cell_type": "markdown",
   "metadata": {},
   "source": [
    "В Machine Learning иногда используется перемножение матриц с матрицами и матриц с векторами.  \n",
    "Поэтому, важно понимать, как оно происходит."
   ]
  },
  {
   "cell_type": "markdown",
   "metadata": {},
   "source": [
    "##### Матрица на вектор"
   ]
  },
  {
   "cell_type": "markdown",
   "metadata": {},
   "source": [
    "$$\n",
    "\\begin{bmatrix}\n",
    "1 & 2 & 3 \\\\\n",
    "4 & 5 & 6\n",
    "\\end{bmatrix}\n",
    "\\cdot\n",
    "\\begin{bmatrix}\n",
    "a \\\\\n",
    "b \\\\\n",
    "c \n",
    "\\end{bmatrix}\n",
    "=\n",
    "\\begin{bmatrix}\n",
    "1a + 2b + 3c \\\\\n",
    "4a + 5b + 6c \n",
    "\\end{bmatrix}\n",
    "$$"
   ]
  },
  {
   "cell_type": "markdown",
   "metadata": {},
   "source": [
    "##### Матрица на матрицу"
   ]
  },
  {
   "cell_type": "markdown",
   "metadata": {},
   "source": [
    "$$\n",
    "\\begin{bmatrix}\n",
    "1 & 2 & 3 \\\\\n",
    "4 & 5 & 6\n",
    "\\end{bmatrix}\n",
    "\\cdot\n",
    "\\begin{bmatrix}\n",
    "a & x \\\\\n",
    "b & y \\\\\n",
    "c & z\n",
    "\\end{bmatrix}\n",
    "=\n",
    "\\begin{bmatrix}\n",
    "1a + 2b + 3c & 1x + 2y + 3z \\\\\n",
    "4a + 5b + 6c & 4x + 5y + 6z \n",
    "\\end{bmatrix}\n",
    "$$"
   ]
  },
  {
   "cell_type": "markdown",
   "metadata": {},
   "source": [
    "Правило, при котором матрицы можно перемножать: вторая компонента размерности левой матрицы должна быть равна первой компоненте размерности правой матрицы.  \n",
    "Если у нас есть матрица $\\pmb{A}$ размерностью $m \\times n$ и матрица $\\pmb{B}$ размерностью $n \\times k$, то мы можем их перемножить.  \n",
    "При произведении $\\pmb{AB}$ мы получим матрицу $\\pmb{C}$ размерностью $m \\times k$.  \n",
    "Заметим, что $\\pmb{BA}$ мы сделать в общем случае уже не можем - размерности не подходят.  \n",
    "Но можем, если матрица квадратная, то есть, она имеет размерность $n \\times n$."
   ]
  },
  {
   "cell_type": "markdown",
   "metadata": {},
   "source": [
    "----"
   ]
  },
  {
   "cell_type": "markdown",
   "metadata": {},
   "source": [
    "# Формула Шермана-Моррисона-Вудбери"
   ]
  },
  {
   "cell_type": "markdown",
   "metadata": {},
   "source": [
    "Доказать тождество:\n",
    "$$\n",
    "            (A+UCV)^{-1} = A^{-1} - A^{-1}U(C^{-1} + VA^{-1}U)^{-1}VA^{-1}.\n",
    "$$\n",
    "Здесь $A\\in\\mathbb{R}^{n{\\times}n}$, $C\\in\\mathbb{R}^{m{\\times}m}$, $U\\in\\mathbb{R}^{n{\\times}m}$, $V\\in\\mathbb{R}^{m{\\times}n}$.\n",
    "    \n",
    "    \n",
    "$I_n$ - единичная матрица размера $n$\n",
    "    \n",
    "Если тождество верно, то будет верно:\n",
    "$$(A+UCV)(A^{-1} - A^{-1}U(C^{-1} + VA^{-1}U)^{-1}VA^{-1}) = I_n$$\n",
    "    \n",
    "$$(I_n + UCVA^{-1} - U(C^{-1} + VA^{-1}U)^{-1}VA^{-1} - UCVA^{-1}U(C^{-1} + VA^{-1}U)^{-1}VA^{-1} = I_n$$\n",
    "    \n",
    "$$UCVA^{-1} = U\\Big((C^{-1} + VA^{-1}U)^{-1}VA^{-1} + CVA^{-1}U(C^{-1} + VA^{-1}U)^{-1}\\Big)VA^{-1}$$\n",
    "    \n",
    "$$UCVA^{-1} = U\\Big((1 + CVA^{-1}U)(C^{-1} + VA^{-1}U)^{-1}\\Big)VA^{-1}$$\n",
    "    \n",
    "$$C = (I_n + CVA^{-1}U)(C^{-1} + VA^{-1}U)^{-1}$$\n",
    "    \n",
    "$$I_n = C^{-1}(I_n + CVA^{-1}U)(C^{-1} + VA^{-1}U)^{-1}$$\n",
    "    \n",
    "$$I_n = (C^{-1} + VA^{-1}U)(C^{-1} + VA^{-1}U)^{-1}$$\n",
    "    \n",
    "$$I_n = I_n$$"
   ]
  }
 ],
 "metadata": {
  "kernelspec": {
   "display_name": "Python 3",
   "language": "python",
   "name": "python3"
  },
  "language_info": {
   "codemirror_mode": {
    "name": "ipython",
    "version": 3
   },
   "file_extension": ".py",
   "mimetype": "text/x-python",
   "name": "python",
   "nbconvert_exporter": "python",
   "pygments_lexer": "ipython3",
   "version": "3.7.3"
  }
 },
 "nbformat": 4,
 "nbformat_minor": 4
}
