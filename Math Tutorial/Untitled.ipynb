{
 "cells": [
  {
   "cell_type": "markdown",
   "metadata": {},
   "source": [
    "# Многомерное нормальное распределение"
   ]
  },
  {
   "cell_type": "markdown",
   "metadata": {},
   "source": [
    "Вектор $x = (x_1, \\ldots, x_n) \\in \\mathbb{R}$, $\\mu$ - матожидание, $\\Sigma$ - матрица ковариаций\n",
    "\n",
    "$$\\rho(x|\\mu, \\Sigma) = \\frac{1}{\\sqrt{(2\\pi)^n\\det{\\Sigma}}} \\exp{(-\\frac{1}{2}(x - \\mu)^T\\Sigma^{-1}(x - \\mu))}$$"
   ]
  },
  {
   "cell_type": "markdown",
   "metadata": {},
   "source": [
    "# Блочное распределение"
   ]
  },
  {
   "cell_type": "markdown",
   "metadata": {},
   "source": [
    "$$z = [x, y] = (x_1, \\ldots, x_n, y_1, \\ldots, y_m) $$\n",
    "\n",
    "$$\\mathbb{E}z = \\mathbb{E}[x,y] = [\\mu_x, \\mu_y]$$\n",
    "\n",
    "Матрица ковариаций\n",
    "$$\\Sigma_z = \\begin{pmatrix}\n",
    "\\Sigma_x & \\Sigma_{xy} \\\\\n",
    "\\Sigma_{yx} & \\Sigma_z\n",
    "\\end{pmatrix}$$\n",
    "\n",
    "Матрица точности\n",
    "\n",
    "$$\\Sigma_z^{-1} = \\begin{pmatrix}\n",
    "\\Lambda_x & \\Lambda_{xy} \\\\\n",
    "\\Lambda_{yx} & \\Lambda_y\n",
    "\\end{pmatrix} $$ \n",
    "($\\Lambda_x \\neq \\Sigma_x^{-1}$) см. Формулу Фробениуса для определения $\\Lambda_x$\n",
    "\n",
    "\n",
    "$$\\rho([x, y]) = \\rho(y|x)\\rho(x)$$"
   ]
  },
  {
   "cell_type": "markdown",
   "metadata": {},
   "source": [
    "$$\\rho([x, y]) = C_z \\exp{\\Big(-\\frac{1}{2}\\Big((x-\\mu_x)^{T}\\Lambda_x(x-\\mu_x) + 2(y-\\mu_y)^{T}\\Lambda_{yx}(x-\\mu_x) + (y-\\mu_y)^{T}\\Lambda_y(y-\\mu_y)\\Big)\\Big)}$$\n",
    "\n",
    "или\n",
    "\n",
    "$$\\rho([x, y]) = C_{y|x}C_x \\exp{\\Big(-\\frac{1}{2}\\Big((x-\\mu)^{T}\\Sigma^{-1}(x-\\mu) + (y - Ax)^{T}\\Gamma^{-1}(y - Ax)\\Big)\\Big)}$$\n"
   ]
  },
  {
   "cell_type": "markdown",
   "metadata": {},
   "source": [
    "$$(x-\\mu_x)^{T}\\Lambda_x(x-\\mu_x) + 2(y-\\mu_y)^{T}\\Lambda_{yx}(x-\\mu_x) + (y-\\mu_y)^{T}\\Lambda_y(y-\\mu_y)$$\n",
    "\n",
    "или\n",
    "\n",
    "$$(x-\\mu)^{T}\\Sigma^{-1}(x-\\mu) + (y - Ax)^{T}\\Gamma^{-1}(y - Ax) = $$\n",
    "\n",
    "$$= x^{T}\\Sigma^{-1}x - 2x^{T}\\Sigma^{-1}\\mu + \\mu^{T}\\Sigma^{-1}\\mu + y^{T}\\Gamma^{-1}y - 2y^{T}\\Gamma^{-1}Ax + x^{T}A^{T}\\Sigma^{-1}Ax$$\n",
    "\n",
    "$$= x^{T}(\\Sigma^{-1} + A^{T}\\Gamma^{-1}A)x - 2\\mu^{T}\\Sigma^{-1}x + \\mu^{T}\\Sigma^{-1}\\mu - 2y^{T}\\Gamma^{-1}Ax + y^{T}\\Gamma^{-1}y$$\n",
    "\n"
   ]
  },
  {
   "cell_type": "markdown",
   "metadata": {},
   "source": [
    "# Формула Фробениуса для блочной матрицы ковариаций"
   ]
  },
  {
   "cell_type": "markdown",
   "metadata": {},
   "source": [
    "$$\\Sigma_z = \\begin{pmatrix}\n",
    "\\Sigma_x & \\Sigma_{xy} \\\\\n",
    "\\Sigma_{yx} & \\Sigma_z\n",
    "\\end{pmatrix}$$\n",
    "\n",
    "$\\Sigma_{yx} = \\Sigma_{xy}^{T}$\n",
    "$\\Sigma_x$,  $\\Sigma_y$ - диагональные, симметричные\n",
    "$\\Sigma_x^{-1}$ - матрица с обратными числами на главной диагонали\n",
    "\n",
    "$$H = \\Sigma_y - \\Sigma_{yx}\\Sigma_x^{-1}\\Sigma_{xy}$$\n",
    "\n",
    "$$\\Sigma_z^{-1} = \\begin{pmatrix}\n",
    "\\Sigma_x & \\Sigma_{xy} \\\\\n",
    "\\Sigma_{yx} & \\Sigma_z\n",
    "\\end{pmatrix}^{-1} = \n",
    "\\begin{pmatrix}\n",
    "\\Lambda_x & \\Lambda_{xy} \\\\\n",
    "\\Lambda_{yx} & \\Lambda_y\n",
    "\\end{pmatrix} $$\n",
    "\n",
    "$$\\Lambda_y = H^{-1} = (\\Sigma_y - \\Sigma_{yx}\\Sigma_x^{-1}\\Sigma_{xy})^{-1}$$"
   ]
  },
  {
   "cell_type": "code",
   "execution_count": null,
   "metadata": {},
   "outputs": [],
   "source": []
  },
  {
   "cell_type": "markdown",
   "metadata": {},
   "source": [
    "$$\\rho(z) = C_z \\exp{(-\\frac{1}{2}(z - \\mu_z)^T\\Sigma_z^{-1}(z - \\mu_z))}$$\n",
    "\n",
    "$$(z - \\mu_z)^T\\Sigma_z^{-1}(z - \\mu_z)) = $$"
   ]
  },
  {
   "cell_type": "markdown",
   "metadata": {},
   "source": [
    "$$\\rho(z) = C_xC_y \\exp{\\Big(-\\frac{1}{2}\\Big((x - \\mu_x)^T\\Sigma^{-1}(z - \\mu_x) + (y - Ax)^T\\Gamma^{-1}(y - Ax)\\Big)\\Big)}$$"
   ]
  }
 ],
 "metadata": {
  "kernelspec": {
   "display_name": "Python 3",
   "language": "python",
   "name": "python3"
  },
  "language_info": {
   "codemirror_mode": {
    "name": "ipython",
    "version": 3
   },
   "file_extension": ".py",
   "mimetype": "text/x-python",
   "name": "python",
   "nbconvert_exporter": "python",
   "pygments_lexer": "ipython3",
   "version": "3.7.3"
  }
 },
 "nbformat": 4,
 "nbformat_minor": 4
}
