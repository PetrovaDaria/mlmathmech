{
 "cells": [
  {
   "cell_type": "code",
   "execution_count": 11,
   "metadata": {},
   "outputs": [],
   "source": [
    "import numpy as np\n",
    "import pandas as pd\n",
    "import sklearn\n",
    "import warnings\n",
    "warnings.filterwarnings('ignore')\n",
    "from numpy.testing import assert_array_equal, assert_array_almost_equal, assert_equal, assert_almost_equal\n",
    "from pandas.testing import assert_frame_equal\n",
    "from sklearn.datasets import make_classification"
   ]
  },
  {
   "cell_type": "markdown",
   "metadata": {},
   "source": [
    "# SLIDE (2) Gini index"
   ]
  },
  {
   "cell_type": "markdown",
   "metadata": {},
   "source": [
    "Необходимо получить функцию, которая находит правило, по которому нужно разбить массив признаков, по критерию gini."
   ]
  },
  {
   "cell_type": "code",
   "execution_count": 7,
   "metadata": {},
   "outputs": [],
   "source": [
    "import numpy as np\n",
    "\n",
    "def get_gini_threshold(x: np.array, y:np.array):\n",
    "    ### ╰( ͡° ͜ʖ ͡° )つ──☆*:・ﾟ\n",
    "    pass"
   ]
  },
  {
   "cell_type": "code",
   "execution_count": 6,
   "metadata": {},
   "outputs": [],
   "source": [
    "import numpy as np\n",
    "\n",
    "def gini_impurity(y: np.ndarray):\n",
    "    trgs = [0, 1]\n",
    "    size = len(y)\n",
    "    \n",
    "    probs = np.zeros(len(trgs))\n",
    "    for i, trg in enumerate(trgs):\n",
    "        probs[i] = np.sum(y == trg) / size\n",
    "        \n",
    "    return 1 - np.sum(probs ** 2)\n",
    "\n",
    "def get_gini_threshold(x, y):\n",
    "    ### Sergey\n",
    "    return best_threshold, best_score"
   ]
  },
  {
   "cell_type": "markdown",
   "metadata": {},
   "source": [
    "# SLIDE (2) Энтропия"
   ]
  },
  {
   "cell_type": "markdown",
   "metadata": {},
   "source": [
    "Необходимо получить функцию, которая находит правило, по которому нужно разбить массив признаков, по критерию entropy."
   ]
  },
  {
   "cell_type": "code",
   "execution_count": 4,
   "metadata": {},
   "outputs": [],
   "source": [
    "import numpy as np\n",
    "\n",
    "def get_entropy_threshold(x: np.array, y:np.array):\n",
    "    ### ╰( ͡° ͜ʖ ͡° )つ──☆*:・ﾟ\n",
    "    pass"
   ]
  },
  {
   "cell_type": "code",
   "execution_count": 8,
   "metadata": {},
   "outputs": [],
   "source": [
    "def get_probs(y, trgs=[0, 1]):\n",
    "    probs = np.zeros(len(trgs))\n",
    "    size = len(y)\n",
    "    assert size > 0\n",
    "    for i, trg in enumerate(trgs):\n",
    "        probs[i] = np.sum(y == trg) / size\n",
    "    return probs\n",
    "\n",
    "def entropy(y: np.ndarray):\n",
    "    probs = get_probs(y)\n",
    "    if np.any(probs == 0):\n",
    "        return 0\n",
    "    assert probs[0] > 0 and probs[1] > 0\n",
    "    return -np.sum(probs * np.log2(probs))\n",
    "\n",
    "def inform_gain(x, y, threshold):\n",
    "    y_left = y[x <= threshold]\n",
    "    y_right = y[x > threshold]\n",
    "    if len(y_left) * len(y_right) == 0:\n",
    "        return 0\n",
    "    \n",
    "    size = len(y)\n",
    "    left_ratio = len(y_left) / size\n",
    "    right_ratio = len(y_right) / size \n",
    "    \n",
    "    return entropy(y) - left_ratio * entropy(y_left) - right_ratio * entropy(y_right)\n",
    "\n",
    "def get_entropy_threshold(x, y):\n",
    "    best_threshold = np.max(x)\n",
    "    best_score = 0\n",
    "    \n",
    "    for threshold in np.unique(x):\n",
    "        score = inform_gain(x, y, threshold)\n",
    "        if score > best_score:\n",
    "            best_threshold = threshold\n",
    "            best_score = score\n",
    "            \n",
    "    return best_threshold, best_score"
   ]
  },
  {
   "cell_type": "markdown",
   "metadata": {},
   "source": [
    "# SLIDE(2) Мой DecisionTree"
   ]
  },
  {
   "cell_type": "markdown",
   "metadata": {},
   "source": [
    "Необходимо реализовать собственное небольшое дерево решений с единственным параметром: `max_length`.\n",
    "Дерево должно быть бинарным (в ноде только одно простое правило). Класс листа выбирается самым популярным классом среди всех объектов обучения попавших в этот лист.\n",
    "\n",
    "Алгоритм решения: Создаете объект Node и храните в нем признак и правило(`threshold`), по которому разбиваете. А также левого и правого ребенка. "
   ]
  },
  {
   "cell_type": "code",
   "execution_count": null,
   "metadata": {},
   "outputs": [],
   "source": [
    "from sklearn.base import BaseEstimator\n",
    "\n",
    "class MyDecisionTreeClassifier(BaseEstimator):\n",
    "    def __init__(self, max_depth=4):\n",
    "        self.max_depth = max_depth\n",
    "        self.tree = {}\n",
    "    \n",
    "    def _get_entropy_threshold(x, y):\n",
    "        ### ╰( ͡° ͜ʖ ͡° )つ──☆*:・ﾟ\n",
    "        return best_threshold, best_score\n",
    "    \n",
    "    def _find_best_split(self, X, y):\n",
    "        ### ╰( ͡° ͜ʖ ͡° )つ──☆*:・ﾟ\n",
    "        return best_feature, best_threshold, best_score\n",
    "            \n",
    "    def _build_tree(self, X, y):\n",
    "        ### ╰( ͡° ͜ʖ ͡° )つ──☆*:・ﾟ\n",
    "        return {'value': (split_feature, split_val), \n",
    "                'leaf' : False,\n",
    "                'left' : left_tree, \n",
    "                'right': right_tree }\n",
    "        \n",
    "        \n",
    "    def fit(self, X, y):\n",
    "        self.tree = self._build_tree(X, y)\n",
    "        return self        \n",
    "    \n",
    "    def predict_proba(self, X_test):\n",
    "        ### ╰( ͡° ͜ʖ ͡° )つ──☆*:・ﾟ\n",
    "        pass\n",
    "    \n",
    "    def predict(self, X_test):\n",
    "        proba = np.array(self.predict_proba(X_test))\n",
    "        return np.argmax(proba, axis=1)"
   ]
  },
  {
   "cell_type": "code",
   "execution_count": 10,
   "metadata": {},
   "outputs": [],
   "source": [
    "from sklearn.base import BaseEstimator, ClassifierMixin\n",
    "\n",
    "class MyDecisionTreeClassifier(BaseEstimator, ClassifierMixin):\n",
    "    def __init__(self, max_depth=4):\n",
    "        self.max_depth = max_depth\n",
    "        self.tree = {}\n",
    "        \n",
    "    def find_best_split(self, X, y):\n",
    "        best_feature = 0\n",
    "        best_score = 0\n",
    "        best_threshold = 0\n",
    "        for feature_ind in range(X.shape[1]):\n",
    "            X_feature = X[:, feature_ind]\n",
    "            threshold, score = get_best_threshold(X_feature, y)\n",
    "            if score > best_score:\n",
    "                best_score = score\n",
    "                best_feature = feature_ind\n",
    "                best_threshold = threshold\n",
    "        \n",
    "        return best_feature, best_threshold, best_score\n",
    "    \n",
    "        \n",
    "    def _build_tree(self, X, y, depth=0):\n",
    "        if depth == self.max_depth:\n",
    "            return {'leaf': True, 'proba': get_probs(y)}\n",
    "        \n",
    "        split_feature, split_val, score = self.find_best_split(X, y)\n",
    "        \n",
    "        if score == 0:\n",
    "            return {'leaf': True, 'proba': get_probs(y)}\n",
    "        \n",
    "        left_inds  = X[:, split_feature] <= split_val\n",
    "        right_inds = X[:, split_feature] >  split_val\n",
    "        \n",
    "        left_tree  = self._build_tree(X[left_inds],  y[left_inds],  depth + 1)\n",
    "        right_tree = self._build_tree(X[right_inds], y[right_inds], depth + 1)\n",
    "        \n",
    "        return {'val': (split_feature, split_val), 'leaf': False,\n",
    "                'left': left_tree, 'right': right_tree}\n",
    "        \n",
    "        \n",
    "    def fit(self, X, y):\n",
    "        self.tree = self._build_tree(X, y)\n",
    "        return self        \n",
    "        \n",
    "    def _predict_proba_obj(self, obj):\n",
    "        assert obj.ndim == 1     \n",
    "        node = self.tree \n",
    "        while node['leaf'] == False:\n",
    "            split_feature, split_val = node['val']\n",
    "            if obj[split_feature] <= split_val:\n",
    "                node = node['left']\n",
    "            else:\n",
    "                node = node['right']                \n",
    "        return np.array(node['proba'])\n",
    "    \n",
    "    def predict_proba(self, X_test):\n",
    "        return np.array([self._predict_proba_obj(row) for row in X_test])\n",
    "    \n",
    "    def predict(self, X_test):\n",
    "        proba = np.array(self.predict_proba(X_test))\n",
    "        return np.argmax(proba, axis=1)"
   ]
  },
  {
   "cell_type": "code",
   "execution_count": null,
   "metadata": {},
   "outputs": [],
   "source": []
  }
 ],
 "metadata": {
  "kernelspec": {
   "display_name": "Python 3",
   "language": "python",
   "name": "python3"
  },
  "language_info": {
   "codemirror_mode": {
    "name": "ipython",
    "version": 3
   },
   "file_extension": ".py",
   "mimetype": "text/x-python",
   "name": "python",
   "nbconvert_exporter": "python",
   "pygments_lexer": "ipython3",
   "version": "3.7.5rc1"
  }
 },
 "nbformat": 4,
 "nbformat_minor": 4
}
